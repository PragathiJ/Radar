{
 "cells": [
  {
   "cell_type": "code",
   "execution_count": 5,
   "id": "e2391832",
   "metadata": {},
   "outputs": [],
   "source": [
    "import numpy as np\n",
    "import pandas as pd\n",
    "import glob\n",
    "import math\n",
    "import os \n",
    "from random import shuffle\n",
    "import cv2\n",
    "import pickle\n",
    "from matplotlib import pyplot as plt\n",
    "from sklearn.model_selection import train_test_split\n",
    "from PIL import Image"
   ]
  },
  {
   "cell_type": "code",
   "execution_count": 6,
   "id": "a9cad40a",
   "metadata": {},
   "outputs": [
    {
     "data": {
      "text/plain": [
       "['balanced', 'byclass', 'bymerge', 'digits', 'letters', 'mnist']"
      ]
     },
     "execution_count": 6,
     "metadata": {},
     "output_type": "execute_result"
    }
   ],
   "source": [
    "from emnist import list_datasets\n",
    "#Download dataset and it is 536 MB\n",
    "list_datasets()"
   ]
  },
  {
   "cell_type": "code",
   "execution_count": 46,
   "id": "851d8b58",
   "metadata": {},
   "outputs": [
    {
     "name": "stdout",
     "output_type": "stream",
     "text": [
      "(697932, 28, 28)\n",
      "(116323, 28, 28)\n"
     ]
    },
    {
     "data": {
      "text/plain": [
       "\"\\ntrain_numbers, train_label_numbers = extract_training_samples('digits')\\nprint(train_numbers.shape)\\ntrain_label_numbers = np.ones(train_label_numbers.shape).astype('uint8')\\n\\ntest_numbers, test_label_numbers = extract_test_samples('digits')\\nprint(test_numbers.shape)\\ntest_label_numbers = np.ones(test_label_numbers.shape).astype('uint8')\\n\""
      ]
     },
     "execution_count": 46,
     "metadata": {},
     "output_type": "execute_result"
    }
   ],
   "source": [
    "#Download images of letters from training samples or test samples\n",
    "#from emnist import extract_test_samples\n",
    "from emnist import extract_training_samples\n",
    "\n",
    "X_train, Y_train = extract_training_samples('byclass')\n",
    "print(X_train.shape)\n",
    "Y_train = np.where(Y_train<10, 0, 1)\n",
    "#Y_train = np.zeros(Y_train.shape).astype('uint8')\n",
    "\n",
    "#Download images of letters from training samples or test samples\n",
    "#from emnist import extract_test_samples\n",
    "from emnist import extract_test_samples\n",
    "\n",
    "X_test, Y_test = extract_test_samples('byclass')\n",
    "print(X_test.shape)\n",
    "Y_test = np.where(Y_test<10, 0, 1)\n",
    "#Y_test = np.zeros(Y_test.shape).astype('uint8')\n",
    "\n",
    "'''\n",
    "train_numbers, train_label_numbers = extract_training_samples('digits')\n",
    "print(train_numbers.shape)\n",
    "train_label_numbers = np.ones(train_label_numbers.shape).astype('uint8')\n",
    "\n",
    "test_numbers, test_label_numbers = extract_test_samples('digits')\n",
    "print(test_numbers.shape)\n",
    "test_label_numbers = np.ones(test_label_numbers.shape).astype('uint8')\n",
    "'''"
   ]
  },
  {
   "cell_type": "code",
   "execution_count": 50,
   "id": "03c54aab",
   "metadata": {},
   "outputs": [
    {
     "name": "stdout",
     "output_type": "stream",
     "text": [
      "0\n"
     ]
    },
    {
     "data": {
      "image/png": "[encoded data removed]",
      "text/plain": [
       "<Figure size 432x288 with 1 Axes>"
      ]
     },
     "metadata": {
      "needs_background": "light"
     },
     "output_type": "display_data"
    }
   ],
   "source": [
    "#Let's print first letters from EMINST training samples\n",
    "i = 100\n",
    "sample_letter = X_train[i]\n",
    "print(Y_train[i])\n",
    "#sample_letter_resize = sample_letter.reshape(28, 28)\n",
    "plt.imshow(sample_letter, cmap = 'gray')\n",
    "plt.axis(\"off\")\n",
    "plt.show()"
   ]
  },
  {
   "cell_type": "code",
   "execution_count": 23,
   "id": "c1ba8cd6",
   "metadata": {},
   "outputs": [
    {
     "name": "stdout",
     "output_type": "stream",
     "text": [
      "0\n"
     ]
    }
   ],
   "source": []
  },
  {
   "cell_type": "code",
   "execution_count": null,
   "id": "8430e140",
   "metadata": {},
   "outputs": [],
   "source": []
  }
 ],
 "metadata": {
  "kernelspec": {
   "display_name": "Python 3 (ipykernel)",
   "language": "python",
   "name": "python3"
  },
  "language_info": {
   "codemirror_mode": {
    "name": "ipython",
    "version": 3
   },
   "file_extension": ".py",
   "mimetype": "text/x-python",
   "name": "python",
   "nbconvert_exporter": "python",
   "pygments_lexer": "ipython3",
   "version": "3.9.5"
  }
 },
 "nbformat": 4,
 "nbformat_minor": 5
}
